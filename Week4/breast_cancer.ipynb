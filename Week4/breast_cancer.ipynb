{
  "nbformat": 4,
  "nbformat_minor": 0,
  "metadata": {
    "colab": {
      "provenance": [],
      "mount_file_id": "1a0Q545UR1Wt7g4E0iTSPGQGXwMAE-JMc",
      "authorship_tag": "ABX9TyPGvaajypMjlG9bi3McU3Ka",
      "include_colab_link": true
    },
    "kernelspec": {
      "name": "python3",
      "display_name": "Python 3"
    },
    "language_info": {
      "name": "python"
    }
  },
  "cells": [
    {
      "cell_type": "markdown",
      "metadata": {
        "id": "view-in-github",
        "colab_type": "text"
      },
      "source": [
        "<a href=\"https://colab.research.google.com/github/mabataki2/AI-Class/blob/main/Week4/breast_cancer.ipynb\" target=\"_parent\"><img src=\"https://colab.research.google.com/assets/colab-badge.svg\" alt=\"Open In Colab\"/></a>"
      ]
    },
    {
      "cell_type": "code",
      "execution_count": 66,
      "metadata": {
        "colab": {
          "base_uri": "https://localhost:8080/"
        },
        "id": "BzjkCw8kVSdW",
        "outputId": "e2f0ea7d-7419-4897-f5a0-760356813e0b"
      },
      "outputs": [
        {
          "output_type": "stream",
          "name": "stdout",
          "text": [
            "--- 데이터셋 정보 ---\n",
            "<class 'pandas.core.frame.DataFrame'>\n",
            "RangeIndex: 569 entries, 0 to 568\n",
            "Data columns (total 32 columns):\n",
            " #   Column                   Non-Null Count  Dtype  \n",
            "---  ------                   --------------  -----  \n",
            " 0   Unnamed: 0               569 non-null    int64  \n",
            " 1   mean radius              569 non-null    float64\n",
            " 2   mean texture             569 non-null    float64\n",
            " 3   mean perimeter           569 non-null    float64\n",
            " 4   mean area                569 non-null    float64\n",
            " 5   mean smoothness          569 non-null    float64\n",
            " 6   mean compactness         569 non-null    float64\n",
            " 7   mean concavity           569 non-null    float64\n",
            " 8   mean concave points      569 non-null    float64\n",
            " 9   mean symmetry            569 non-null    float64\n",
            " 10  mean fractal dimension   569 non-null    float64\n",
            " 11  radius error             569 non-null    float64\n",
            " 12  texture error            569 non-null    float64\n",
            " 13  perimeter error          569 non-null    float64\n",
            " 14  area error               569 non-null    float64\n",
            " 15  smoothness error         569 non-null    float64\n",
            " 16  compactness error        569 non-null    float64\n",
            " 17  concavity error          569 non-null    float64\n",
            " 18  concave points error     569 non-null    float64\n",
            " 19  symmetry error           569 non-null    float64\n",
            " 20  fractal dimension error  569 non-null    float64\n",
            " 21  worst radius             569 non-null    float64\n",
            " 22  worst texture            569 non-null    float64\n",
            " 23  worst perimeter          569 non-null    float64\n",
            " 24  worst area               569 non-null    float64\n",
            " 25  worst smoothness         569 non-null    float64\n",
            " 26  worst compactness        569 non-null    float64\n",
            " 27  worst concavity          569 non-null    float64\n",
            " 28  worst concave points     569 non-null    float64\n",
            " 29  worst symmetry           569 non-null    float64\n",
            " 30  worst fractal dimension  569 non-null    float64\n",
            " 31  label                    569 non-null    int64  \n",
            "dtypes: float64(30), int64(2)\n",
            "memory usage: 142.4 KB\n",
            "None\n",
            "\n",
            "--- 레이블(Y) 분포 ---\n",
            "label\n",
            "1    357\n",
            "0    212\n",
            "Name: count, dtype: int64\n"
          ]
        }
      ],
      "source": [
        "import pandas as pd\n",
        "import numpy as np\n",
        "import matplotlib.pyplot as plt\n",
        "import seaborn as sns\n",
        "from sklearn.model_selection import train_test_split\n",
        "from sklearn.preprocessing import StandardScaler, LabelEncoder\n",
        "from tensorflow.keras.models import Sequential\n",
        "from tensorflow.keras.layers import Dense, Dropout\n",
        "from tensorflow.keras.utils import to_categorical\n",
        "from tensorflow.keras.callbacks import EarlyStopping\n",
        "\n",
        "# 1. 데이터 로드 및 전처리\n",
        "df = pd.read_csv('/content/drive/MyDrive/breast_cancer.csv')\n",
        "\n",
        "print(\"--- 데이터셋 정보 ---\")\n",
        "print(df.info())\n",
        "print(\"\\n--- 레이블(Y) 분포 ---\")\n",
        "print(df['label'].value_counts())"
      ]
    },
    {
      "cell_type": "code",
      "source": [
        "# 결측치 확인\n",
        "print(\"--- 결측치 확인 ---\")\n",
        "print(df.isnull().sum().sum()) # 총 결측치 개수 (0이면 결측치 없음)\n",
        "\n",
        "# 'Unnamed: 0' (불필요한 인덱스 열) 제거\n",
        "df = df.drop('Unnamed: 0', axis=1)\n",
        "\n",
        "# X(특성)와 Y(레이블) 분리\n",
        "X = df.drop('label', axis=1)\n",
        "Y = df['label']"
      ],
      "metadata": {
        "colab": {
          "base_uri": "https://localhost:8080/"
        },
        "id": "Mz1rmtCbXB0D",
        "outputId": "9c2171e1-4315-4e90-e7f8-09edf6853770"
      },
      "execution_count": 67,
      "outputs": [
        {
          "output_type": "stream",
          "name": "stdout",
          "text": [
            "--- 결측치 확인 ---\n",
            "0\n"
          ]
        }
      ]
    },
    {
      "cell_type": "code",
      "source": [
        "# Y 레이블에 LabelEncoder 적용 (이진 분류이므로 0과 1로 인코딩)\n",
        "# 이 데이터셋의 Y는 이미 0과 1이지만, 일관성을 위해 적용합니다.\n",
        "le = LabelEncoder()\n",
        "Y = le.fit_transform(Y)\n",
        "\n",
        "print(f\"\\n변환 후 Y 레이블: {np.unique(Y)}\")"
      ],
      "metadata": {
        "colab": {
          "base_uri": "https://localhost:8080/"
        },
        "id": "dU23zlAsXFBU",
        "outputId": "3a47f0b5-b25b-46af-9069-b4a333a67ec1"
      },
      "execution_count": 68,
      "outputs": [
        {
          "output_type": "stream",
          "name": "stdout",
          "text": [
            "\n",
            "변환 후 Y 레이블: [0 1]\n"
          ]
        }
      ]
    },
    {
      "cell_type": "code",
      "source": [
        "# 학습 데이터 80%, 테스트 데이터 20% 분할\n",
        "X_train_raw, X_test_raw, Y_train_raw, Y_test_raw = train_test_split(\n",
        "    X, Y, test_size=0.2, random_state=42, stratify=Y\n",
        ")"
      ],
      "metadata": {
        "id": "KdnqBuUqXIGW"
      },
      "execution_count": 69,
      "outputs": []
    },
    {
      "cell_type": "code",
      "source": [
        "# 표준화 객체 생성 및 학습 데이터에 fit_transform 적용, 테스트 데이터에 transform 적용\n",
        "scaler = StandardScaler()\n",
        "X_train_scaled = scaler.fit_transform(X_train_raw)\n",
        "X_test_scaled = scaler.transform(X_test_raw)\n",
        "\n",
        "print(f\"\\n표준화된 학습 데이터 X 형태: {X_train_scaled.shape}\")"
      ],
      "metadata": {
        "colab": {
          "base_uri": "https://localhost:8080/"
        },
        "id": "Kl4LRfI7ZxOX",
        "outputId": "ebab92de-288d-4294-df2f-51a8977cab43"
      },
      "execution_count": 70,
      "outputs": [
        {
          "output_type": "stream",
          "name": "stdout",
          "text": [
            "\n",
            "표준화된 학습 데이터 X 형태: (455, 30)\n"
          ]
        }
      ]
    },
    {
      "cell_type": "code",
      "source": [
        "# 딥러닝 모델을 위한 데이터 준비\n",
        "num_classes = 2 # 0(양성), 1(악성)\n",
        "\n",
        "# LabelEncoder로 0과 1이 된 Y_raw를 One-Hot 인코딩\n",
        "Y_train = to_categorical(Y_train_raw, num_classes=num_classes)\n",
        "Y_test = to_categorical(Y_test_raw, num_classes=num_classes)\n",
        "\n",
        "input_dim = X_train_scaled.shape[1] # 30개 특성\n",
        "\n",
        "print(f\"One-Hot 인코딩된 Y_train 형태: {Y_train.shape}\")"
      ],
      "metadata": {
        "colab": {
          "base_uri": "https://localhost:8080/"
        },
        "id": "7O6xNZc_Z7A-",
        "outputId": "3c9cf068-1463-47dd-c84d-be59e3695b88"
      },
      "execution_count": 71,
      "outputs": [
        {
          "output_type": "stream",
          "name": "stdout",
          "text": [
            "One-Hot 인코딩된 Y_train 형태: (455, 2)\n"
          ]
        }
      ]
    },
    {
      "cell_type": "code",
      "source": [
        "# 8단계: 딥러닝 모델 정의 (Dropout 적용)\n",
        "model = Sequential([\n",
        "    # 입력층 + 첫 번째 은닉층\n",
        "    Dense(128, activation='relu', input_shape=(input_dim,)),\n",
        "\n",
        "    # 🌟 Dropout 추가: 20%의 뉴런을 랜덤하게 비활성화\n",
        "    Dropout(0.2),\n",
        "\n",
        "    # 두 번째 은닉층\n",
        "    Dense(64, activation='relu'),\n",
        "\n",
        "    # 🌟 Dropout 추가: 20%의 뉴런을 랜덤하게 비활성화\n",
        "    Dropout(0.2),\n",
        "\n",
        "    # 세 번째 은닉층\n",
        "    Dense(32, activation='relu'),\n",
        "\n",
        "    # 출력층\n",
        "    Dense(num_classes, activation='softmax')\n",
        "])\n",
        "\n",
        "print(\"\\n--- 개선된 모델 구조 요약 (Dropout 포함) ---\")\n",
        "model.summary()\n"
      ],
      "metadata": {
        "colab": {
          "base_uri": "https://localhost:8080/",
          "height": 422
        },
        "id": "tDHa1jHZaCuI",
        "outputId": "59561ab7-b319-413d-d833-038bbf928405"
      },
      "execution_count": 72,
      "outputs": [
        {
          "output_type": "stream",
          "name": "stdout",
          "text": [
            "\n",
            "--- 개선된 모델 구조 요약 (Dropout 포함) ---\n"
          ]
        },
        {
          "output_type": "stream",
          "name": "stderr",
          "text": [
            "/usr/local/lib/python3.12/dist-packages/keras/src/layers/core/dense.py:93: UserWarning: Do not pass an `input_shape`/`input_dim` argument to a layer. When using Sequential models, prefer using an `Input(shape)` object as the first layer in the model instead.\n",
            "  super().__init__(activity_regularizer=activity_regularizer, **kwargs)\n"
          ]
        },
        {
          "output_type": "display_data",
          "data": {
            "text/plain": [
              "\u001b[1mModel: \"sequential_2\"\u001b[0m\n"
            ],
            "text/html": [
              "<pre style=\"white-space:pre;overflow-x:auto;line-height:normal;font-family:Menlo,'DejaVu Sans Mono',consolas,'Courier New',monospace\"><span style=\"font-weight: bold\">Model: \"sequential_2\"</span>\n",
              "</pre>\n"
            ]
          },
          "metadata": {}
        },
        {
          "output_type": "display_data",
          "data": {
            "text/plain": [
              "┏━━━━━━━━━━━━━━━━━━━━━━━━━━━━━━━━━┳━━━━━━━━━━━━━━━━━━━━━━━━┳━━━━━━━━━━━━━━━┓\n",
              "┃\u001b[1m \u001b[0m\u001b[1mLayer (type)                   \u001b[0m\u001b[1m \u001b[0m┃\u001b[1m \u001b[0m\u001b[1mOutput Shape          \u001b[0m\u001b[1m \u001b[0m┃\u001b[1m \u001b[0m\u001b[1m      Param #\u001b[0m\u001b[1m \u001b[0m┃\n",
              "┡━━━━━━━━━━━━━━━━━━━━━━━━━━━━━━━━━╇━━━━━━━━━━━━━━━━━━━━━━━━╇━━━━━━━━━━━━━━━┩\n",
              "│ dense_8 (\u001b[38;5;33mDense\u001b[0m)                 │ (\u001b[38;5;45mNone\u001b[0m, \u001b[38;5;34m128\u001b[0m)            │         \u001b[38;5;34m3,968\u001b[0m │\n",
              "├─────────────────────────────────┼────────────────────────┼───────────────┤\n",
              "│ dropout_2 (\u001b[38;5;33mDropout\u001b[0m)             │ (\u001b[38;5;45mNone\u001b[0m, \u001b[38;5;34m128\u001b[0m)            │             \u001b[38;5;34m0\u001b[0m │\n",
              "├─────────────────────────────────┼────────────────────────┼───────────────┤\n",
              "│ dense_9 (\u001b[38;5;33mDense\u001b[0m)                 │ (\u001b[38;5;45mNone\u001b[0m, \u001b[38;5;34m64\u001b[0m)             │         \u001b[38;5;34m8,256\u001b[0m │\n",
              "├─────────────────────────────────┼────────────────────────┼───────────────┤\n",
              "│ dropout_3 (\u001b[38;5;33mDropout\u001b[0m)             │ (\u001b[38;5;45mNone\u001b[0m, \u001b[38;5;34m64\u001b[0m)             │             \u001b[38;5;34m0\u001b[0m │\n",
              "├─────────────────────────────────┼────────────────────────┼───────────────┤\n",
              "│ dense_10 (\u001b[38;5;33mDense\u001b[0m)                │ (\u001b[38;5;45mNone\u001b[0m, \u001b[38;5;34m32\u001b[0m)             │         \u001b[38;5;34m2,080\u001b[0m │\n",
              "├─────────────────────────────────┼────────────────────────┼───────────────┤\n",
              "│ dense_11 (\u001b[38;5;33mDense\u001b[0m)                │ (\u001b[38;5;45mNone\u001b[0m, \u001b[38;5;34m2\u001b[0m)              │            \u001b[38;5;34m66\u001b[0m │\n",
              "└─────────────────────────────────┴────────────────────────┴───────────────┘\n"
            ],
            "text/html": [
              "<pre style=\"white-space:pre;overflow-x:auto;line-height:normal;font-family:Menlo,'DejaVu Sans Mono',consolas,'Courier New',monospace\">┏━━━━━━━━━━━━━━━━━━━━━━━━━━━━━━━━━┳━━━━━━━━━━━━━━━━━━━━━━━━┳━━━━━━━━━━━━━━━┓\n",
              "┃<span style=\"font-weight: bold\"> Layer (type)                    </span>┃<span style=\"font-weight: bold\"> Output Shape           </span>┃<span style=\"font-weight: bold\">       Param # </span>┃\n",
              "┡━━━━━━━━━━━━━━━━━━━━━━━━━━━━━━━━━╇━━━━━━━━━━━━━━━━━━━━━━━━╇━━━━━━━━━━━━━━━┩\n",
              "│ dense_8 (<span style=\"color: #0087ff; text-decoration-color: #0087ff\">Dense</span>)                 │ (<span style=\"color: #00d7ff; text-decoration-color: #00d7ff\">None</span>, <span style=\"color: #00af00; text-decoration-color: #00af00\">128</span>)            │         <span style=\"color: #00af00; text-decoration-color: #00af00\">3,968</span> │\n",
              "├─────────────────────────────────┼────────────────────────┼───────────────┤\n",
              "│ dropout_2 (<span style=\"color: #0087ff; text-decoration-color: #0087ff\">Dropout</span>)             │ (<span style=\"color: #00d7ff; text-decoration-color: #00d7ff\">None</span>, <span style=\"color: #00af00; text-decoration-color: #00af00\">128</span>)            │             <span style=\"color: #00af00; text-decoration-color: #00af00\">0</span> │\n",
              "├─────────────────────────────────┼────────────────────────┼───────────────┤\n",
              "│ dense_9 (<span style=\"color: #0087ff; text-decoration-color: #0087ff\">Dense</span>)                 │ (<span style=\"color: #00d7ff; text-decoration-color: #00d7ff\">None</span>, <span style=\"color: #00af00; text-decoration-color: #00af00\">64</span>)             │         <span style=\"color: #00af00; text-decoration-color: #00af00\">8,256</span> │\n",
              "├─────────────────────────────────┼────────────────────────┼───────────────┤\n",
              "│ dropout_3 (<span style=\"color: #0087ff; text-decoration-color: #0087ff\">Dropout</span>)             │ (<span style=\"color: #00d7ff; text-decoration-color: #00d7ff\">None</span>, <span style=\"color: #00af00; text-decoration-color: #00af00\">64</span>)             │             <span style=\"color: #00af00; text-decoration-color: #00af00\">0</span> │\n",
              "├─────────────────────────────────┼────────────────────────┼───────────────┤\n",
              "│ dense_10 (<span style=\"color: #0087ff; text-decoration-color: #0087ff\">Dense</span>)                │ (<span style=\"color: #00d7ff; text-decoration-color: #00d7ff\">None</span>, <span style=\"color: #00af00; text-decoration-color: #00af00\">32</span>)             │         <span style=\"color: #00af00; text-decoration-color: #00af00\">2,080</span> │\n",
              "├─────────────────────────────────┼────────────────────────┼───────────────┤\n",
              "│ dense_11 (<span style=\"color: #0087ff; text-decoration-color: #0087ff\">Dense</span>)                │ (<span style=\"color: #00d7ff; text-decoration-color: #00d7ff\">None</span>, <span style=\"color: #00af00; text-decoration-color: #00af00\">2</span>)              │            <span style=\"color: #00af00; text-decoration-color: #00af00\">66</span> │\n",
              "└─────────────────────────────────┴────────────────────────┴───────────────┘\n",
              "</pre>\n"
            ]
          },
          "metadata": {}
        },
        {
          "output_type": "display_data",
          "data": {
            "text/plain": [
              "\u001b[1m Total params: \u001b[0m\u001b[38;5;34m14,370\u001b[0m (56.13 KB)\n"
            ],
            "text/html": [
              "<pre style=\"white-space:pre;overflow-x:auto;line-height:normal;font-family:Menlo,'DejaVu Sans Mono',consolas,'Courier New',monospace\"><span style=\"font-weight: bold\"> Total params: </span><span style=\"color: #00af00; text-decoration-color: #00af00\">14,370</span> (56.13 KB)\n",
              "</pre>\n"
            ]
          },
          "metadata": {}
        },
        {
          "output_type": "display_data",
          "data": {
            "text/plain": [
              "\u001b[1m Trainable params: \u001b[0m\u001b[38;5;34m14,370\u001b[0m (56.13 KB)\n"
            ],
            "text/html": [
              "<pre style=\"white-space:pre;overflow-x:auto;line-height:normal;font-family:Menlo,'DejaVu Sans Mono',consolas,'Courier New',monospace\"><span style=\"font-weight: bold\"> Trainable params: </span><span style=\"color: #00af00; text-decoration-color: #00af00\">14,370</span> (56.13 KB)\n",
              "</pre>\n"
            ]
          },
          "metadata": {}
        },
        {
          "output_type": "display_data",
          "data": {
            "text/plain": [
              "\u001b[1m Non-trainable params: \u001b[0m\u001b[38;5;34m0\u001b[0m (0.00 B)\n"
            ],
            "text/html": [
              "<pre style=\"white-space:pre;overflow-x:auto;line-height:normal;font-family:Menlo,'DejaVu Sans Mono',consolas,'Courier New',monospace\"><span style=\"font-weight: bold\"> Non-trainable params: </span><span style=\"color: #00af00; text-decoration-color: #00af00\">0</span> (0.00 B)\n",
              "</pre>\n"
            ]
          },
          "metadata": {}
        }
      ]
    },
    {
      "cell_type": "code",
      "source": [
        "model.compile(\n",
        "    optimizer='adam',\n",
        "    # One-Hot 인코딩된 레이블에 적합한 손실 함수\n",
        "    loss='categorical_crossentropy',\n",
        "    metrics=['accuracy']\n",
        ")"
      ],
      "metadata": {
        "id": "OdgGY3vCaLb5"
      },
      "execution_count": 73,
      "outputs": []
    },
    {
      "cell_type": "code",
      "source": [
        "EPOCHS = 200 # 과적합 방지 기법을 사용했으므로 Epoch 횟수를 충분히 늘립니다.\n",
        "BATCH_SIZE = 32\n",
        "\n",
        "# 🌟 EarlyStopping 설정\n",
        "# monitor='val_loss': 검증 손실(Validation Loss)을 모니터링\n",
        "# patience=10: 10 Epoch 동안 val_loss가 개선되지 않으면 훈련 중단\n",
        "# restore_best_weights=True: 훈련 중 가장 좋았던 가중치로 복원\n",
        "early_stopping = EarlyStopping(\n",
        "    monitor='val_loss',\n",
        "    patience=10,\n",
        "    restore_best_weights=True\n",
        ")\n",
        "\n",
        "print(\"\\n--- 모델 훈련 시작 (Early Stopping 적용) ---\")\n",
        "# 10단계: 모델 훈련\n",
        "history = model.fit(\n",
        "    X_train_scaled, Y_train,\n",
        "    epochs=EPOCHS,\n",
        "    batch_size=BATCH_SIZE,\n",
        "    validation_data=(X_test_scaled, Y_test),\n",
        "    callbacks=[early_stopping], # 🌟 콜백 함수 추가\n",
        "    verbose=1\n",
        ")"
      ],
      "metadata": {
        "colab": {
          "base_uri": "https://localhost:8080/"
        },
        "id": "AoeZNFnQaPNX",
        "outputId": "90bce54b-d5b4-44e3-d9e8-bba90fc1fa7a"
      },
      "execution_count": 74,
      "outputs": [
        {
          "output_type": "stream",
          "name": "stdout",
          "text": [
            "\n",
            "--- 모델 훈련 시작 (Early Stopping 적용) ---\n",
            "Epoch 1/200\n",
            "\u001b[1m15/15\u001b[0m \u001b[32m━━━━━━━━━━━━━━━━━━━━\u001b[0m\u001b[37m\u001b[0m \u001b[1m2s\u001b[0m 23ms/step - accuracy: 0.6796 - loss: 0.5979 - val_accuracy: 0.9474 - val_loss: 0.3008\n",
            "Epoch 2/200\n",
            "\u001b[1m15/15\u001b[0m \u001b[32m━━━━━━━━━━━━━━━━━━━━\u001b[0m\u001b[37m\u001b[0m \u001b[1m0s\u001b[0m 8ms/step - accuracy: 0.9258 - loss: 0.2650 - val_accuracy: 0.9474 - val_loss: 0.1701\n",
            "Epoch 3/200\n",
            "\u001b[1m15/15\u001b[0m \u001b[32m━━━━━━━━━━━━━━━━━━━━\u001b[0m\u001b[37m\u001b[0m \u001b[1m0s\u001b[0m 8ms/step - accuracy: 0.9420 - loss: 0.1609 - val_accuracy: 0.9474 - val_loss: 0.1268\n",
            "Epoch 4/200\n",
            "\u001b[1m15/15\u001b[0m \u001b[32m━━━━━━━━━━━━━━━━━━━━\u001b[0m\u001b[37m\u001b[0m \u001b[1m0s\u001b[0m 8ms/step - accuracy: 0.9734 - loss: 0.0921 - val_accuracy: 0.9386 - val_loss: 0.1249\n",
            "Epoch 5/200\n",
            "\u001b[1m15/15\u001b[0m \u001b[32m━━━━━━━━━━━━━━━━━━━━\u001b[0m\u001b[37m\u001b[0m \u001b[1m0s\u001b[0m 8ms/step - accuracy: 0.9742 - loss: 0.0825 - val_accuracy: 0.9386 - val_loss: 0.1109\n",
            "Epoch 6/200\n",
            "\u001b[1m15/15\u001b[0m \u001b[32m━━━━━━━━━━━━━━━━━━━━\u001b[0m\u001b[37m\u001b[0m \u001b[1m0s\u001b[0m 8ms/step - accuracy: 0.9770 - loss: 0.0734 - val_accuracy: 0.9474 - val_loss: 0.0996\n",
            "Epoch 7/200\n",
            "\u001b[1m15/15\u001b[0m \u001b[32m━━━━━━━━━━━━━━━━━━━━\u001b[0m\u001b[37m\u001b[0m \u001b[1m0s\u001b[0m 8ms/step - accuracy: 0.9836 - loss: 0.0752 - val_accuracy: 0.9386 - val_loss: 0.1001\n",
            "Epoch 8/200\n",
            "\u001b[1m15/15\u001b[0m \u001b[32m━━━━━━━━━━━━━━━━━━━━\u001b[0m\u001b[37m\u001b[0m \u001b[1m0s\u001b[0m 7ms/step - accuracy: 0.9852 - loss: 0.0594 - val_accuracy: 0.9386 - val_loss: 0.0999\n",
            "Epoch 9/200\n",
            "\u001b[1m15/15\u001b[0m \u001b[32m━━━━━━━━━━━━━━━━━━━━\u001b[0m\u001b[37m\u001b[0m \u001b[1m0s\u001b[0m 7ms/step - accuracy: 0.9896 - loss: 0.0520 - val_accuracy: 0.9474 - val_loss: 0.1051\n",
            "Epoch 10/200\n",
            "\u001b[1m15/15\u001b[0m \u001b[32m━━━━━━━━━━━━━━━━━━━━\u001b[0m\u001b[37m\u001b[0m \u001b[1m0s\u001b[0m 8ms/step - accuracy: 0.9940 - loss: 0.0388 - val_accuracy: 0.9561 - val_loss: 0.0951\n",
            "Epoch 11/200\n",
            "\u001b[1m15/15\u001b[0m \u001b[32m━━━━━━━━━━━━━━━━━━━━\u001b[0m\u001b[37m\u001b[0m \u001b[1m0s\u001b[0m 10ms/step - accuracy: 0.9899 - loss: 0.0441 - val_accuracy: 0.9561 - val_loss: 0.0993\n",
            "Epoch 12/200\n",
            "\u001b[1m15/15\u001b[0m \u001b[32m━━━━━━━━━━━━━━━━━━━━\u001b[0m\u001b[37m\u001b[0m \u001b[1m0s\u001b[0m 7ms/step - accuracy: 0.9922 - loss: 0.0390 - val_accuracy: 0.9474 - val_loss: 0.1058\n",
            "Epoch 13/200\n",
            "\u001b[1m15/15\u001b[0m \u001b[32m━━━━━━━━━━━━━━━━━━━━\u001b[0m\u001b[37m\u001b[0m \u001b[1m0s\u001b[0m 7ms/step - accuracy: 0.9930 - loss: 0.0345 - val_accuracy: 0.9474 - val_loss: 0.1084\n",
            "Epoch 14/200\n",
            "\u001b[1m15/15\u001b[0m \u001b[32m━━━━━━━━━━━━━━━━━━━━\u001b[0m\u001b[37m\u001b[0m \u001b[1m0s\u001b[0m 7ms/step - accuracy: 0.9915 - loss: 0.0293 - val_accuracy: 0.9561 - val_loss: 0.1053\n",
            "Epoch 15/200\n",
            "\u001b[1m15/15\u001b[0m \u001b[32m━━━━━━━━━━━━━━━━━━━━\u001b[0m\u001b[37m\u001b[0m \u001b[1m0s\u001b[0m 8ms/step - accuracy: 0.9921 - loss: 0.0251 - val_accuracy: 0.9474 - val_loss: 0.1103\n",
            "Epoch 16/200\n",
            "\u001b[1m15/15\u001b[0m \u001b[32m━━━━━━━━━━━━━━━━━━━━\u001b[0m\u001b[37m\u001b[0m \u001b[1m0s\u001b[0m 7ms/step - accuracy: 0.9954 - loss: 0.0290 - val_accuracy: 0.9561 - val_loss: 0.1081\n",
            "Epoch 17/200\n",
            "\u001b[1m15/15\u001b[0m \u001b[32m━━━━━━━━━━━━━━━━━━━━\u001b[0m\u001b[37m\u001b[0m \u001b[1m0s\u001b[0m 8ms/step - accuracy: 0.9922 - loss: 0.0253 - val_accuracy: 0.9474 - val_loss: 0.1098\n",
            "Epoch 18/200\n",
            "\u001b[1m15/15\u001b[0m \u001b[32m━━━━━━━━━━━━━━━━━━━━\u001b[0m\u001b[37m\u001b[0m \u001b[1m0s\u001b[0m 7ms/step - accuracy: 0.9933 - loss: 0.0191 - val_accuracy: 0.9386 - val_loss: 0.1182\n",
            "Epoch 19/200\n",
            "\u001b[1m15/15\u001b[0m \u001b[32m━━━━━━━━━━━━━━━━━━━━\u001b[0m\u001b[37m\u001b[0m \u001b[1m0s\u001b[0m 8ms/step - accuracy: 0.9922 - loss: 0.0256 - val_accuracy: 0.9561 - val_loss: 0.1207\n",
            "Epoch 20/200\n",
            "\u001b[1m15/15\u001b[0m \u001b[32m━━━━━━━━━━━━━━━━━━━━\u001b[0m\u001b[37m\u001b[0m \u001b[1m0s\u001b[0m 8ms/step - accuracy: 0.9958 - loss: 0.0203 - val_accuracy: 0.9561 - val_loss: 0.1373\n"
          ]
        }
      ]
    },
    {
      "cell_type": "code",
      "source": [
        "# 최종 평가\n",
        "loss, accuracy = model.evaluate(X_test_scaled, Y_test, verbose=0)\n",
        "\n",
        "print(f\"\\n[최종 평가] 테스트 데이터 손실 (Loss): {loss:.4f}\")\n",
        "print(f\"[최종 평가] 테스트 데이터 정확도 (Accuracy): {accuracy * 100:.2f}%\")\n",
        "\n",
        "# 예측 결과 생성 (테스트 데이터)\n",
        "predictions = model.predict(X_test_scaled)\n",
        "predicted_classes = np.argmax(predictions, axis=1) # 가장 높은 확률의 인덱스 (0 또는 1)"
      ],
      "metadata": {
        "colab": {
          "base_uri": "https://localhost:8080/"
        },
        "id": "7b3KfuM1bioP",
        "outputId": "eb804abe-330f-4151-c1e2-cd9e1e707751"
      },
      "execution_count": 75,
      "outputs": [
        {
          "output_type": "stream",
          "name": "stdout",
          "text": [
            "\n",
            "[최종 평가] 테스트 데이터 손실 (Loss): 0.0951\n",
            "[최종 평가] 테스트 데이터 정확도 (Accuracy): 95.61%\n",
            "\u001b[1m4/4\u001b[0m \u001b[32m━━━━━━━━━━━━━━━━━━━━\u001b[0m\u001b[37m\u001b[0m \u001b[1m0s\u001b[0m 36ms/step\n"
          ]
        }
      ]
    },
    {
      "cell_type": "code",
      "source": [
        "# 손실 그래프\n",
        "plt.figure(figsize=(12, 5))\n",
        "plt.subplot(1, 2, 1) # 1행 2열 중 첫 번째 영역\n",
        "\n",
        "plt.plot(history.history['loss'], label='Training Loss')\n",
        "plt.plot(history.history['val_loss'], label='Validation Loss')\n",
        "plt.title('Training and Validation Loss')\n",
        "plt.xlabel('Epoch')\n",
        "plt.ylabel('Loss')\n",
        "plt.legend()\n",
        "plt.grid(True)"
      ],
      "metadata": {
        "colab": {
          "base_uri": "https://localhost:8080/",
          "height": 487
        },
        "id": "F96TGxWKbkSX",
        "outputId": "b1057009-7f15-4ec0-e28d-67d8701b81ac"
      },
      "execution_count": 76,
      "outputs": [
        {
          "output_type": "display_data",
          "data": {
            "text/plain": [
              "<Figure size 1200x500 with 1 Axes>"
            ],
            "image/png": "[encoded data removed]"
          },
          "metadata": {}
        }
      ]
    },
    {
      "cell_type": "code",
      "source": [
        "# 정확도 그래프\n",
        "plt.subplot(1, 2, 2) # 1행 2열 중 두 번째 영역\n",
        "\n",
        "plt.plot(history.history['accuracy'], label='Training Accuracy')\n",
        "plt.plot(history.history['val_accuracy'], label='Validation Accuracy')\n",
        "plt.title('Training and Validation Accuracy')\n",
        "plt.xlabel('Epoch')\n",
        "plt.ylabel('Accuracy')\n",
        "plt.legend()\n",
        "plt.grid(True)\n",
        "\n",
        "plt.tight_layout() # 그래프 간격 조정\n",
        "#plt.show()"
      ],
      "metadata": {
        "colab": {
          "base_uri": "https://localhost:8080/",
          "height": 487
        },
        "id": "UArE_x79bl1F",
        "outputId": "c6cfebe2-6cba-4db5-e509-5bf3737fb595"
      },
      "execution_count": 77,
      "outputs": [
        {
          "output_type": "display_data",
          "data": {
            "text/plain": [
              "<Figure size 640x480 with 1 Axes>"
            ],
            "image/png": "[encoded data removed]"
          },
          "metadata": {}
        }
      ]
    },
    {
      "cell_type": "code",
      "source": [
        "#처음 과적합 문제로 인하여 제대로 된 학습결과가 나오지 않았으나, Dropout, EarlyStopping 기능을 포함시켜서\n",
        "#과적합을 제어하는데 성공하였습니다,\n",
        "#epoch를 200으로 해놨지만, Ealry Stopping을 통해 15번 반복부근에서 자동으로 멈추게 된 것을 보아, 일정 수의 반복 후에는\n",
        "#학습이 의미가 없을 수 있겠다고 느꼈습니다."
      ],
      "metadata": {
        "id": "BvHOR0oFc9Jr"
      },
      "execution_count": null,
      "outputs": []
    }
  ]
}