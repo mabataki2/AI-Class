{
  "nbformat": 4,
  "nbformat_minor": 0,
  "metadata": {
    "colab": {
      "provenance": [],
      "mount_file_id": "1jNGJFzRwgtt7ehAPlRLEtykPvQboYDjm",
      "authorship_tag": "ABX9TyNFGv3xCwrjTdoIOW77INK7",
      "include_colab_link": true
    },
    "kernelspec": {
      "name": "python3",
      "display_name": "Python 3"
    },
    "language_info": {
      "name": "python"
    }
  },
  "cells": [
    {
      "cell_type": "markdown",
      "metadata": {
        "id": "view-in-github",
        "colab_type": "text"
      },
      "source": [
        "<a href=\"https://colab.research.google.com/github/mabataki2/AI-Class/blob/main/Week4/Wine_ML.ipynb\" target=\"_parent\"><img src=\"https://colab.research.google.com/assets/colab-badge.svg\" alt=\"Open In Colab\"/></a>"
      ]
    },
    {
      "cell_type": "code",
      "execution_count": 34,
      "metadata": {
        "id": "cjdU8M5XhUMF"
      },
      "outputs": [],
      "source": [
        "import pandas as pd\n",
        "import numpy as np\n",
        "from sklearn.model_selection import train_test_split\n",
        "from sklearn.preprocessing import StandardScaler\n",
        "from sklearn.linear_model import LogisticRegression\n",
        "from sklearn.tree import DecisionTreeClassifier\n",
        "from sklearn.ensemble import RandomForestClassifier\n",
        "from sklearn.neighbors import KNeighborsClassifier\n",
        "from sklearn.metrics import accuracy_score, classification_report\n",
        "\n",
        "\n",
        "# 1. 데이터 로드 및 병합\n",
        "\n",
        "red_wine = pd.read_csv('/content/drive/MyDrive/winequality-red.csv', sep=';')\n",
        "white_wine = pd.read_csv('/content/drive/MyDrive/winequality-white.csv', sep=';')\n",
        "\n",
        "# 와인 타입 구분을 위한 컬럼 추가 (옵션이지만 좋은 습관)\n",
        "red_wine['type'] = 0  # 레드 와인\n",
        "white_wine['type'] = 1 # 화이트 와인\n",
        "\n",
        "\n",
        "# 두 데이터셋 병합\n",
        "df_wine = pd.concat([red_wine, white_wine], ignore_index=True)"
      ]
    },
    {
      "cell_type": "code",
      "source": [
        "df_wine.info()\n"
      ],
      "metadata": {
        "colab": {
          "base_uri": "https://localhost:8080/"
        },
        "id": "Mrvj8GM8h4mV",
        "outputId": "b157fe42-3a17-42e1-e644-ae9c4f9c5084"
      },
      "execution_count": 35,
      "outputs": [
        {
          "output_type": "stream",
          "name": "stdout",
          "text": [
            "<class 'pandas.core.frame.DataFrame'>\n",
            "RangeIndex: 6497 entries, 0 to 6496\n",
            "Data columns (total 13 columns):\n",
            " #   Column                Non-Null Count  Dtype  \n",
            "---  ------                --------------  -----  \n",
            " 0   fixed acidity         6497 non-null   float64\n",
            " 1   volatile acidity      6497 non-null   float64\n",
            " 2   citric acid           6497 non-null   float64\n",
            " 3   residual sugar        6497 non-null   float64\n",
            " 4   chlorides             6497 non-null   float64\n",
            " 5   free sulfur dioxide   6497 non-null   float64\n",
            " 6   total sulfur dioxide  6497 non-null   float64\n",
            " 7   density               6497 non-null   float64\n",
            " 8   pH                    6497 non-null   float64\n",
            " 9   sulphates             6497 non-null   float64\n",
            " 10  alcohol               6497 non-null   float64\n",
            " 11  quality               6497 non-null   int64  \n",
            " 12  type                  6497 non-null   int64  \n",
            "dtypes: float64(11), int64(2)\n",
            "memory usage: 660.0 KB\n"
          ]
        }
      ]
    },
    {
      "cell_type": "code",
      "source": [
        "# 결측치 확인\n",
        "wine.isnull().sum()"
      ],
      "metadata": {
        "colab": {
          "base_uri": "https://localhost:8080/",
          "height": 115
        },
        "id": "LgfkzpW1u2Yz",
        "outputId": "948a4168-d2f1-4b34-d836-ee3701e18253"
      },
      "execution_count": 36,
      "outputs": [
        {
          "output_type": "execute_result",
          "data": {
            "text/plain": [
              "fixed acidity;\"volatile acidity\";\"citric acid\";\"residual sugar\";\"chlorides\";\"free sulfur dioxide\";\"total sulfur dioxide\";\"density\";\"pH\";\"sulphates\";\"alcohol\";\"quality\"    0\n",
              "dtype: int64"
            ],
            "text/html": [
              "<div>\n",
              "<style scoped>\n",
              "    .dataframe tbody tr th:only-of-type {\n",
              "        vertical-align: middle;\n",
              "    }\n",
              "\n",
              "    .dataframe tbody tr th {\n",
              "        vertical-align: top;\n",
              "    }\n",
              "\n",
              "    .dataframe thead th {\n",
              "        text-align: right;\n",
              "    }\n",
              "</style>\n",
              "<table border=\"1\" class=\"dataframe\">\n",
              "  <thead>\n",
              "    <tr style=\"text-align: right;\">\n",
              "      <th></th>\n",
              "      <th>0</th>\n",
              "    </tr>\n",
              "  </thead>\n",
              "  <tbody>\n",
              "    <tr>\n",
              "      <th>fixed acidity;\"volatile acidity\";\"citric acid\";\"residual sugar\";\"chlorides\";\"free sulfur dioxide\";\"total sulfur dioxide\";\"density\";\"pH\";\"sulphates\";\"alcohol\";\"quality\"</th>\n",
              "      <td>0</td>\n",
              "    </tr>\n",
              "  </tbody>\n",
              "</table>\n",
              "</div><br><label><b>dtype:</b> int64</label>"
            ]
          },
          "metadata": {},
          "execution_count": 36
        }
      ]
    },
    {
      "cell_type": "code",
      "source": [
        "wine.info()"
      ],
      "metadata": {
        "colab": {
          "base_uri": "https://localhost:8080/"
        },
        "id": "9EyPzFSKix7f",
        "outputId": "603b1758-f96b-4e33-e223-dbb128f6f261"
      },
      "execution_count": 37,
      "outputs": [
        {
          "output_type": "stream",
          "name": "stdout",
          "text": [
            "<class 'pandas.core.frame.DataFrame'>\n",
            "RangeIndex: 6497 entries, 0 to 6496\n",
            "Data columns (total 1 columns):\n",
            " #   Column                                                                                                                                                                   Non-Null Count  Dtype \n",
            "---  ------                                                                                                                                                                   --------------  ----- \n",
            " 0   fixed acidity;\"volatile acidity\";\"citric acid\";\"residual sugar\";\"chlorides\";\"free sulfur dioxide\";\"total sulfur dioxide\";\"density\";\"pH\";\"sulphates\";\"alcohol\";\"quality\"  6497 non-null   object\n",
            "dtypes: object(1)\n",
            "memory usage: 50.9+ KB\n"
          ]
        }
      ]
    },
    {
      "cell_type": "code",
      "source": [],
      "metadata": {
        "id": "--_PW7I6i2ei"
      },
      "execution_count": 37,
      "outputs": []
    },
    {
      "cell_type": "code",
      "source": [
        "# 2. X (특성)와 Y (레이블) 분리\n",
        "# 'quality'를 목표 변수로 설정 (와인 품질 분류)\n",
        "X = df_wine.drop('quality', axis=1)\n",
        "Y = df_wine['quality']\n",
        "\n",
        "Y"
      ],
      "metadata": {
        "colab": {
          "base_uri": "https://localhost:8080/",
          "height": 458
        },
        "id": "I8voZkf6ivEj",
        "outputId": "afd8b4a7-4417-4e07-9ac9-14cee4b5d3bf"
      },
      "execution_count": 38,
      "outputs": [
        {
          "output_type": "execute_result",
          "data": {
            "text/plain": [
              "0       5\n",
              "1       5\n",
              "2       5\n",
              "3       6\n",
              "4       5\n",
              "       ..\n",
              "6492    6\n",
              "6493    5\n",
              "6494    6\n",
              "6495    7\n",
              "6496    6\n",
              "Name: quality, Length: 6497, dtype: int64"
            ],
            "text/html": [
              "<div>\n",
              "<style scoped>\n",
              "    .dataframe tbody tr th:only-of-type {\n",
              "        vertical-align: middle;\n",
              "    }\n",
              "\n",
              "    .dataframe tbody tr th {\n",
              "        vertical-align: top;\n",
              "    }\n",
              "\n",
              "    .dataframe thead th {\n",
              "        text-align: right;\n",
              "    }\n",
              "</style>\n",
              "<table border=\"1\" class=\"dataframe\">\n",
              "  <thead>\n",
              "    <tr style=\"text-align: right;\">\n",
              "      <th></th>\n",
              "      <th>quality</th>\n",
              "    </tr>\n",
              "  </thead>\n",
              "  <tbody>\n",
              "    <tr>\n",
              "      <th>0</th>\n",
              "      <td>5</td>\n",
              "    </tr>\n",
              "    <tr>\n",
              "      <th>1</th>\n",
              "      <td>5</td>\n",
              "    </tr>\n",
              "    <tr>\n",
              "      <th>2</th>\n",
              "      <td>5</td>\n",
              "    </tr>\n",
              "    <tr>\n",
              "      <th>3</th>\n",
              "      <td>6</td>\n",
              "    </tr>\n",
              "    <tr>\n",
              "      <th>4</th>\n",
              "      <td>5</td>\n",
              "    </tr>\n",
              "    <tr>\n",
              "      <th>...</th>\n",
              "      <td>...</td>\n",
              "    </tr>\n",
              "    <tr>\n",
              "      <th>6492</th>\n",
              "      <td>6</td>\n",
              "    </tr>\n",
              "    <tr>\n",
              "      <th>6493</th>\n",
              "      <td>5</td>\n",
              "    </tr>\n",
              "    <tr>\n",
              "      <th>6494</th>\n",
              "      <td>6</td>\n",
              "    </tr>\n",
              "    <tr>\n",
              "      <th>6495</th>\n",
              "      <td>7</td>\n",
              "    </tr>\n",
              "    <tr>\n",
              "      <th>6496</th>\n",
              "      <td>6</td>\n",
              "    </tr>\n",
              "  </tbody>\n",
              "</table>\n",
              "<p>6497 rows × 1 columns</p>\n",
              "</div><br><label><b>dtype:</b> int64</label>"
            ]
          },
          "metadata": {},
          "execution_count": 38
        }
      ]
    },
    {
      "cell_type": "code",
      "source": [
        "# 3. 이진 분류 문제로 단순화 (품질 7 이상을 '좋음'(1), 미만을 '보통'(0)으로 분류)\n",
        "Y_binary = (Y >= 7).astype(int)"
      ],
      "metadata": {
        "id": "rvVttI2Si9VF"
      },
      "execution_count": 39,
      "outputs": []
    },
    {
      "cell_type": "code",
      "source": [
        "# 4. 데이터 분리 및 표준화\n",
        "X_train, X_test, Y_train, Y_test = train_test_split(\n",
        "    X, Y_binary, test_size=0.2, random_state=42, stratify=Y_binary\n",
        ")"
      ],
      "metadata": {
        "id": "em4rooRAtdrH"
      },
      "execution_count": 40,
      "outputs": []
    },
    {
      "cell_type": "code",
      "source": [
        "# 표준화\n",
        "scaler = StandardScaler()\n",
        "X_train_scaled = scaler.fit_transform(X_train)\n",
        "X_test_scaled = scaler.transform(X_test)"
      ],
      "metadata": {
        "id": "5-Rb0U0htfTJ"
      },
      "execution_count": 41,
      "outputs": []
    },
    {
      "cell_type": "code",
      "source": [
        "# 5. 모델 정의 및 학습\n",
        "models = {\n",
        "    \"Logistic Regression (LR)\": LogisticRegression(max_iter=1000, random_state=42),\n",
        "    \"Decision Tree (DT)\": DecisionTreeClassifier(random_state=42),\n",
        "    \"Random Forest (RF)\": RandomForestClassifier(random_state=42),\n",
        "    \"K-Nearest Neighbors (KNN)\": KNeighborsClassifier()\n",
        "}\n",
        "accuracy_results = {}\n",
        "\n",
        "print(\"--- 전통 머신러닝 모델 학습 및 평가 ---\")\n",
        "\n",
        "for name, model in models.items():\n",
        "    model.fit(X_train_scaled, Y_train)\n",
        "    Y_pred = model.predict(X_test_scaled)\n",
        "    accuracy = accuracy_score(Y_test, Y_pred)\n",
        "    accuracy_results[name] = accuracy\n",
        "    print(f\"[{name}] 정확도: {accuracy:.4f}\")\n"
      ],
      "metadata": {
        "colab": {
          "base_uri": "https://localhost:8080/"
        },
        "id": "J1KNPjWltghn",
        "outputId": "c353f185-fe37-4620-e1cb-feb13a56e6d8"
      },
      "execution_count": 42,
      "outputs": [
        {
          "output_type": "stream",
          "name": "stdout",
          "text": [
            "--- 전통 머신러닝 모델 학습 및 평가 ---\n",
            "[Logistic Regression (LR)] 정확도: 0.8223\n",
            "[Decision Tree (DT)] 정확도: 0.8538\n",
            "[Random Forest (RF)] 정확도: 0.8892\n",
            "[K-Nearest Neighbors (KNN)] 정확도: 0.8323\n"
          ]
        }
      ]
    },
    {
      "cell_type": "code",
      "source": [
        "# 결과 출력\n",
        "results_df = pd.DataFrame(accuracy_results.items(), columns=['Model', 'Accuracy']).sort_values(by='Accuracy', ascending=False)\n",
        "print(\"\\n--- 최종 정확도 비교 ---\")\n",
        "print(results_df.to_markdown(index=False))\n"
      ],
      "metadata": {
        "colab": {
          "base_uri": "https://localhost:8080/"
        },
        "id": "7XtkEqj6thnJ",
        "outputId": "8af8f83f-c91a-4df7-c9c4-84374264cd1a"
      },
      "execution_count": 43,
      "outputs": [
        {
          "output_type": "stream",
          "name": "stdout",
          "text": [
            "\n",
            "--- 최종 정확도 비교 ---\n",
            "| Model                     |   Accuracy |\n",
            "|:--------------------------|-----------:|\n",
            "| Random Forest (RF)        |   0.889231 |\n",
            "| Decision Tree (DT)        |   0.853846 |\n",
            "| K-Nearest Neighbors (KNN) |   0.832308 |\n",
            "| Logistic Regression (LR)  |   0.822308 |\n"
          ]
        }
      ]
    },
    {
      "cell_type": "code",
      "source": [
        "# 6. LR 모델의 기울기(계수) 및 절편 출력\n",
        "print(\"\\n--- 로지스틱 회귀 (LR) 모델 계수/절편 ---\")\n",
        "# 표준화된 특성의 컬럼 이름 가져오기\n",
        "feature_names = X.columns"
      ],
      "metadata": {
        "colab": {
          "base_uri": "https://localhost:8080/"
        },
        "id": "2BsyY9L5til6",
        "outputId": "eadfb8e5-365b-4fbb-f5d4-92f3bb70162f"
      },
      "execution_count": 44,
      "outputs": [
        {
          "output_type": "stream",
          "name": "stdout",
          "text": [
            "\n",
            "--- 로지스틱 회귀 (LR) 모델 계수/절편 ---\n"
          ]
        }
      ]
    },
    {
      "cell_type": "code",
      "source": [
        "# Logistic Regression 모델의 계수(Coefficient)와 절편(Intercept)\n",
        "lr_coef = models[\"Logistic Regression (LR)\"].coef_[0]\n",
        "lr_intercept = models[\"Logistic Regression (LR)\"].intercept_[0]"
      ],
      "metadata": {
        "id": "lQbETI6ttm86"
      },
      "execution_count": 45,
      "outputs": []
    },
    {
      "cell_type": "code",
      "source": [
        "print(f\"절편 (Intercept): {lr_intercept:.4f}\")\n",
        "print(\"계수 (Coefficients):\")\n",
        "for name, coef in zip(feature_names, lr_coef):\n",
        "    print(f\"  {name:25s}: {coef:.4f}\")"
      ],
      "metadata": {
        "colab": {
          "base_uri": "https://localhost:8080/"
        },
        "id": "wYjdohhatmEf",
        "outputId": "2d57bac5-7176-465f-e885-8499364257bc"
      },
      "execution_count": 46,
      "outputs": [
        {
          "output_type": "stream",
          "name": "stdout",
          "text": [
            "절편 (Intercept): -1.9095\n",
            "계수 (Coefficients):\n",
            "  fixed acidity            : 0.6153\n",
            "  volatile acidity         : -0.5977\n",
            "  citric acid              : -0.0065\n",
            "  residual sugar           : 1.0381\n",
            "  chlorides                : -0.2397\n",
            "  free sulfur dioxide      : 0.2132\n",
            "  total sulfur dioxide     : -0.2255\n",
            "  density                  : -1.2249\n",
            "  pH                       : 0.3912\n",
            "  sulphates                : 0.3609\n",
            "  alcohol                  : 0.5700\n",
            "  type                     : -0.2954\n"
          ]
        }
      ]
    },
    {
      "cell_type": "code",
      "source": [
        "# RF의 성능이 제일 좋았음.\n",
        "# 로지스틱 회귀(LR)이 제일 결과가 좋지 않았음.\n",
        "# 계수를 확인해보면 density, residual sugar, volatile acidity 가\n",
        "# 와인 품질에 관여하는 바가 제일 큼을 확인할 수 있음."
      ],
      "metadata": {
        "id": "kSBJWNxNtoeP"
      },
      "execution_count": 47,
      "outputs": []
    },
    {
      "cell_type": "code",
      "source": [],
      "metadata": {
        "id": "bwwaaWFCu7FO"
      },
      "execution_count": null,
      "outputs": []
    }
  ]
}