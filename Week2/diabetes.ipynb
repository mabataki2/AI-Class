{
  "nbformat": 4,
  "nbformat_minor": 0,
  "metadata": {
    "colab": {
      "provenance": [],
      "mount_file_id": "1i49LFQs_6-lPQ2OEJzNP0oMDHwDcaFrx",
      "authorship_tag": "ABX9TyOLe/XExX1bLm+CHv8MCW1c",
      "include_colab_link": true
    },
    "kernelspec": {
      "name": "python3",
      "display_name": "Python 3"
    },
    "language_info": {
      "name": "python"
    }
  },
  "cells": [
    {
      "cell_type": "markdown",
      "metadata": {
        "id": "view-in-github",
        "colab_type": "text"
      },
      "source": [
        "<a href=\"https://colab.research.google.com/github/mabataki2/AI-Class/blob/main/Week2/diabetes.ipynb\" target=\"_parent\"><img src=\"https://colab.research.google.com/assets/colab-badge.svg\" alt=\"Open In Colab\"/></a>"
      ]
    },
    {
      "cell_type": "code",
      "source": [
        "\n",
        "# diabetes (Classifier)\n",
        "import pandas as pd\n",
        "from sklearn.model_selection import train_test_split\n",
        "from sklearn.tree import DecisionTreeClassifier\n",
        "from sklearn.ensemble import RandomForestClassifier\n",
        "from sklearn.linear_model import LogisticRegression\n",
        "from sklearn.metrics import accuracy_score\n",
        "\n",
        "\n",
        "# -----------------------------\n",
        "# 1) 데이터 준비\n",
        "# -----------------------------\n",
        "df_diabetes_cls = pd.read_csv(\"/content/drive/MyDrive/diabetes.csv\")\n",
        "\n",
        "X_diabetes_cls = df_diabetes_cls.drop(columns=[\"Outcome\"])\n",
        "y_diabetes_cls = df_diabetes_cls[\"Outcome\"]\n",
        "\n",
        "\n",
        "X_train_diab_cls, X_test_diab_cls, y_train_diab_cls, y_test_diab_cls = train_test_split(\n",
        "    X_diabetes_cls, y_diabetes_cls, test_size=0.2, stratify=y_diabetes_cls, random_state=42\n",
        ")\n",
        "\n",
        "\n",
        "# -----------------------------\n",
        "# 2) 모델 구성\n",
        "# -----------------------------\n",
        "dt_diab_cls = DecisionTreeClassifier(random_state=42)\n",
        "rf_diab_cls = RandomForestClassifier(n_estimators=200, random_state=42)\n",
        "lr_diab_cls = LogisticRegression(max_iter=500)\n",
        "\n",
        "\n",
        "# -----------------------------\n",
        "# 3) 모델 학습\n",
        "# -----------------------------\n",
        "dt_diab_cls.fit(X_train_diab_cls, y_train_diab_cls)\n",
        "rf_diab_cls.fit(X_train_diab_cls, y_train_diab_cls)\n",
        "lr_diab_cls.fit(X_train_diab_cls, y_train_diab_cls)\n",
        "\n",
        "\n",
        "# -----------------------------\n",
        "# 4) 모델 평가\n",
        "# -----------------------------\n",
        "dt_acc_diab_cls = accuracy_score(y_test_diab_cls, dt_diab_cls.predict(X_test_diab_cls))\n",
        "rf_acc_diab_cls = accuracy_score(y_test_diab_cls, rf_diab_cls.predict(X_test_diab_cls))\n",
        "lr_acc_diab_cls = accuracy_score(y_test_diab_cls, lr_diab_cls.predict(X_test_diab_cls))\n",
        "\n",
        "\n",
        "print(\"\\n=== Test Accuracy (Diabetes Classifier) ===\")\n",
        "print(f\"Decision Tree : {dt_acc_diab_cls:.4f}\")\n",
        "print(f\"Random Forest : {rf_acc_diab_cls:.4f}\")\n",
        "print(f\"Logistic Reg. : {lr_acc_diab_cls:.4f}\")\n"
      ],
      "metadata": {
        "id": "9kHqDD9uC_9F",
        "outputId": "baf5f5c8-c82d-4edc-b378-8712f4efa035",
        "colab": {
          "base_uri": "https://localhost:8080/"
        }
      },
      "execution_count": 7,
      "outputs": [
        {
          "output_type": "stream",
          "name": "stdout",
          "text": [
            "\n",
            "=== Test Accuracy (Diabetes Classifier) ===\n",
            "Decision Tree : 0.7273\n",
            "Random Forest : 0.7468\n",
            "Logistic Reg. : 0.7143\n"
          ]
        }
      ]
    },
    {
      "cell_type": "code",
      "source": [],
      "metadata": {
        "id": "uYILIE4rNvlG"
      },
      "execution_count": null,
      "outputs": []
    }
  ]
}