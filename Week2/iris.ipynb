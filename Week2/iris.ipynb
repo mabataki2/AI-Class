{
  "nbformat": 4,
  "nbformat_minor": 0,
  "metadata": {
    "colab": {
      "provenance": [],
      "mount_file_id": "1i49LFQs_6-lPQ2OEJzNP0oMDHwDcaFrx",
      "authorship_tag": "ABX9TyOlA+P/n1i3N0WFEkM/xyFz",
      "include_colab_link": true
    },
    "kernelspec": {
      "name": "python3",
      "display_name": "Python 3"
    },
    "language_info": {
      "name": "python"
    }
  },
  "cells": [
    {
      "cell_type": "markdown",
      "metadata": {
        "id": "view-in-github",
        "colab_type": "text"
      },
      "source": [
        "<a href=\"https://colab.research.google.com/github/mabataki2/AI-Class/blob/main/Week2/iris.ipynb\" target=\"_parent\"><img src=\"https://colab.research.google.com/assets/colab-badge.svg\" alt=\"Open In Colab\"/></a>"
      ]
    },
    {
      "cell_type": "code",
      "source": [
        "# Iris.data\n",
        "import pandas as pd\n",
        "\n",
        "from sklearn.model_selection import train_test_split\n",
        "\n",
        "from sklearn.tree import DecisionTreeClassifier\n",
        "\n",
        "from sklearn.ensemble import RandomForestClassifier\n",
        "\n",
        "from sklearn.linear_model import LogisticRegression\n",
        "\n",
        "from sklearn.metrics import accuracy_score\n",
        "\n",
        "\n",
        "\n",
        "# -----------------------------\n",
        "\n",
        "# 1) 데이터 준비\n",
        "\n",
        "# -----------------------------\n",
        "\n",
        "cols = [\"sepal_length\", \"sepal_width\", \"petal_length\", \"petal_width\", \"label\"]\n",
        "df_iris = pd.read_csv(\"/content/drive/MyDrive/iris.data\", header=None, names=cols).dropna()\n",
        "\n",
        "X_iris = df_iris.drop(columns=[\"label\"])\n",
        "y_iris = df_iris[\"label\"]\n",
        "\n",
        "X_train_iris, X_test_iris, y_train_iris, y_test_iris = train_test_split(\n",
        "    X_iris, y_iris, test_size=0.2, stratify=y_iris, random_state=42\n",
        ")\n",
        "\n",
        "\n",
        "# -----------------------------\n",
        "\n",
        "# 2) 모델 구성\n",
        "\n",
        "# -----------------------------\n",
        "\n",
        "dt_iris = DecisionTreeClassifier(random_state=42)\n",
        "rf_iris = RandomForestClassifier(n_estimators=200, random_state=42)\n",
        "lr_iris = LogisticRegression(max_iter=500)\n",
        "\n",
        "\n",
        "# -----------------------------\n",
        "\n",
        "# 3) 모델 학습\n",
        "\n",
        "# -----------------------------\n",
        "\n",
        "dt_iris.fit(X_train_iris, y_train_iris)\n",
        "rf_iris.fit(X_train_iris, y_train_iris)\n",
        "lr_iris.fit(X_train_iris, y_train_iris)\n",
        "\n",
        "\n",
        "# -----------------------------\n",
        "\n",
        "# 4) 모델 평가\n",
        "\n",
        "# -----------------------------\n",
        "\n",
        "dt_acc_iris = accuracy_score(y_test_iris, dt_iris.predict(X_test_iris))\n",
        "rf_acc_iris = accuracy_score(y_test_iris, rf_iris.predict(X_test_iris))\n",
        "lr_acc_iris = accuracy_score(y_test_iris, lr_iris.predict(X_test_iris))\n",
        "\n",
        "\n",
        "print(\"=== Test Accuracy (Iris) ===\")\n",
        "print(f\"Decision Tree : {dt_acc_iris:.4f}\")\n",
        "print(f\"Random Forest : {rf_acc_iris:.4f}\")\n",
        "print(f\"Logistic Reg. : {lr_acc_iris:.4f}\")\n"
      ],
      "metadata": {
        "id": "9kHqDD9uC_9F",
        "outputId": "c739c148-d716-4a23-a38f-2e58407e8306",
        "colab": {
          "base_uri": "https://localhost:8080/"
        }
      },
      "execution_count": 2,
      "outputs": [
        {
          "output_type": "stream",
          "name": "stdout",
          "text": [
            "=== Test Accuracy (Iris) ===\n",
            "Decision Tree : 0.9333\n",
            "Random Forest : 0.9000\n",
            "Logistic Reg. : 0.9667\n"
          ]
        }
      ]
    },
    {
      "cell_type": "code",
      "source": [],
      "metadata": {
        "id": "uYILIE4rNvlG"
      },
      "execution_count": null,
      "outputs": []
    }
  ]
}