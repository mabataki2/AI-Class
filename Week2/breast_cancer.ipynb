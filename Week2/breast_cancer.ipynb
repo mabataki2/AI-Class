{
  "nbformat": 4,
  "nbformat_minor": 0,
  "metadata": {
    "colab": {
      "provenance": [],
      "mount_file_id": "1i49LFQs_6-lPQ2OEJzNP0oMDHwDcaFrx",
      "authorship_tag": "ABX9TyPGIyGUd3q9sOeHM7COThD1",
      "include_colab_link": true
    },
    "kernelspec": {
      "name": "python3",
      "display_name": "Python 3"
    },
    "language_info": {
      "name": "python"
    }
  },
  "cells": [
    {
      "cell_type": "markdown",
      "metadata": {
        "id": "view-in-github",
        "colab_type": "text"
      },
      "source": [
        "<a href=\"https://colab.research.google.com/github/mabataki2/AI-Class/blob/main/Week2/breast_cancer.ipynb\" target=\"_parent\"><img src=\"https://colab.research.google.com/assets/colab-badge.svg\" alt=\"Open In Colab\"/></a>"
      ]
    },
    {
      "cell_type": "code",
      "source": [
        "# Breast_Cancer\n",
        "import pandas as pd\n",
        "from sklearn.model_selection import train_test_split\n",
        "from sklearn.tree import DecisionTreeClassifier\n",
        "from sklearn.ensemble import RandomForestClassifier\n",
        "from sklearn.linear_model import LogisticRegression\n",
        "from sklearn.metrics import accuracy_score\n",
        "\n",
        "\n",
        "# -----------------------------\n",
        "# 1) 데이터 준비\n",
        "# -----------------------------\n",
        "df_cancer = pd.read_csv(\"/content/drive/MyDrive/breast_cancer.csv\")\n",
        "\n",
        "X_cancer = df_cancer.drop(columns=[\"label\"])\n",
        "y_cancer = df_cancer[\"label\"]\n",
        "\n",
        "X_train_cancer, X_test_cancer, y_train_cancer, y_test_cancer = train_test_split(\n",
        "    X_cancer, y_cancer, test_size=0.2, stratify=y_cancer, random_state=42\n",
        ")\n",
        "\n",
        "# -----------------------------\n",
        "# 2) 모델 구성\n",
        "# -----------------------------\n",
        "dt_cancer = DecisionTreeClassifier(random_state=42)\n",
        "rf_cancer = RandomForestClassifier(n_estimators=200, random_state=42)\n",
        "lr_cancer = LogisticRegression(max_iter=1000)\n",
        "\n",
        "# -----------------------------\n",
        "# 3) 모델 학습\n",
        "# -----------------------------\n",
        "dt_cancer.fit(X_train_cancer, y_train_cancer)\n",
        "rf_cancer.fit(X_train_cancer, y_train_cancer)\n",
        "lr_cancer.fit(X_train_cancer, y_train_cancer)\n",
        "\n",
        "# -----------------------------\n",
        "# 4) 모델 평가\n",
        "# -----------------------------\n",
        "dt_acc_cancer = accuracy_score(y_test_cancer, dt_cancer.predict(X_test_cancer))\n",
        "rf_acc_cancer = accuracy_score(y_test_cancer, rf_cancer.predict(X_test_cancer))\n",
        "lr_acc_cancer = accuracy_score(y_test_cancer, lr_cancer.predict(X_test_cancer))\n",
        "\n",
        "print(\"\\n=== Test Accuracy (Breast Cancer) ===\")\n",
        "print(f\"Decision Tree : {dt_acc_cancer:.4f}\")\n",
        "print(f\"Random Forest : {rf_acc_cancer:.4f}\")\n",
        "print(f\"Logistic Reg. : {lr_acc_cancer:.4f}\")"
      ],
      "metadata": {
        "id": "9kHqDD9uC_9F",
        "outputId": "0c998de1-b757-4493-d981-92156e22b646",
        "colab": {
          "base_uri": "https://localhost:8080/"
        }
      },
      "execution_count": 10,
      "outputs": [
        {
          "output_type": "stream",
          "name": "stdout",
          "text": [
            "\n",
            "=== Test Accuracy (Breast Cancer) ===\n",
            "Decision Tree : 0.9035\n",
            "Random Forest : 0.9561\n",
            "Logistic Reg. : 0.9825\n"
          ]
        },
        {
          "output_type": "stream",
          "name": "stderr",
          "text": [
            "/usr/local/lib/python3.12/dist-packages/sklearn/linear_model/_logistic.py:465: ConvergenceWarning: lbfgs failed to converge (status=1):\n",
            "STOP: TOTAL NO. OF ITERATIONS REACHED LIMIT.\n",
            "\n",
            "Increase the number of iterations (max_iter) or scale the data as shown in:\n",
            "    https://scikit-learn.org/stable/modules/preprocessing.html\n",
            "Please also refer to the documentation for alternative solver options:\n",
            "    https://scikit-learn.org/stable/modules/linear_model.html#logistic-regression\n",
            "  n_iter_i = _check_optimize_result(\n"
          ]
        }
      ]
    },
    {
      "cell_type": "code",
      "source": [],
      "metadata": {
        "id": "uYILIE4rNvlG"
      },
      "execution_count": null,
      "outputs": []
    }
  ]
}