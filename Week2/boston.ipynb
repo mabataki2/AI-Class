{
  "nbformat": 4,
  "nbformat_minor": 0,
  "metadata": {
    "colab": {
      "provenance": [],
      "mount_file_id": "1i49LFQs_6-lPQ2OEJzNP0oMDHwDcaFrx",
      "authorship_tag": "ABX9TyNcixcCI6D/+LnsxFknXBc3",
      "include_colab_link": true
    },
    "kernelspec": {
      "name": "python3",
      "display_name": "Python 3"
    },
    "language_info": {
      "name": "python"
    }
  },
  "cells": [
    {
      "cell_type": "markdown",
      "metadata": {
        "id": "view-in-github",
        "colab_type": "text"
      },
      "source": [
        "<a href=\"https://colab.research.google.com/github/mabataki2/AI-Class/blob/main/Week2/boston.ipynb\" target=\"_parent\"><img src=\"https://colab.research.google.com/assets/colab-badge.svg\" alt=\"Open In Colab\"/></a>"
      ]
    },
    {
      "cell_type": "code",
      "source": [
        "# boston (Regressor)\n",
        "import pandas as pd\n",
        "from sklearn.model_selection import train_test_split\n",
        "from sklearn.tree import DecisionTreeRegressor\n",
        "from sklearn.ensemble import RandomForestRegressor\n",
        "from sklearn.linear_model import LinearRegression\n",
        "\n",
        "# 회귀 모델 평가 지표를 import합니다.\n",
        "from sklearn.metrics import mean_squared_error\n",
        "\n",
        "\n",
        "# -----------------------------\n",
        "# 1) 데이터 준비\n",
        "# -----------------------------\n",
        "df_boston = pd.read_csv(\"/content/drive/MyDrive/boston.csv\")\n",
        "\n",
        "\n",
        "X_boston = df_boston.drop(columns=[\"PRICE\"])\n",
        "y_boston = df_boston[\"PRICE\"]\n",
        "\n",
        "X_train_bost, X_test_bost, y_train_bost, y_test_bost = train_test_split(\n",
        "    X_boston, y_boston, test_size=0.2, random_state=42\n",
        ")\n",
        "\n",
        "# -----------------------------\n",
        "# 2) 모델 구성\n",
        "# -----------------------------\n",
        "dt_bost = DecisionTreeRegressor(random_state=42)\n",
        "rf_bost = RandomForestRegressor(n_estimators=200, random_state=42)\n",
        "lr_bost = LinearRegression()\n",
        "\n",
        "# -----------------------------\n",
        "# 3) 모델 학습\n",
        "# -----------------------------\n",
        "dt_bost.fit(X_train_bost, y_train_bost)\n",
        "rf_bost.fit(X_train_bost, y_train_bost)\n",
        "lr_bost.fit(X_train_bost, y_train_bost)\n",
        "\n",
        "# -----------------------------\n",
        "# 4) 모델 평가\n",
        "# -----------------------------\n",
        "dt_mse_bost = mean_squared_error(y_test_bost, dt_bost.predict(X_test_bost))\n",
        "rf_mse_bost = mean_squared_error(y_test_bost, rf_bost.predict(X_test_bost))\n",
        "lr_mse_bost = mean_squared_error(y_test_bost, lr_bost.predict(X_test_bost))\n",
        "\n",
        "print(\"\\n=== Test MSE (Boston) ===\")\n",
        "print(f\"Decision Tree : {dt_mse_bost:.4f}\")\n",
        "print(f\"Random Forest : {rf_mse_bost:.4f}\")\n",
        "print(f\"Linear Regression : {lr_mse_bost:.4f}\")"
      ],
      "metadata": {
        "id": "9kHqDD9uC_9F",
        "outputId": "b308e780-dda3-441b-cf43-b56254e69055",
        "colab": {
          "base_uri": "https://localhost:8080/"
        }
      },
      "execution_count": 12,
      "outputs": [
        {
          "output_type": "stream",
          "name": "stdout",
          "text": [
            "\n",
            "=== Test MSE (Boston) ===\n",
            "Decision Tree : 0.4818\n",
            "Random Forest : 0.2400\n",
            "Linear Regression : 0.5547\n"
          ]
        }
      ]
    },
    {
      "cell_type": "code",
      "source": [],
      "metadata": {
        "id": "uYILIE4rNvlG"
      },
      "execution_count": null,
      "outputs": []
    }
  ]
}