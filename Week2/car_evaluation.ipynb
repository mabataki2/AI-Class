{
  "nbformat": 4,
  "nbformat_minor": 0,
  "metadata": {
    "colab": {
      "provenance": [],
      "mount_file_id": "1i49LFQs_6-lPQ2OEJzNP0oMDHwDcaFrx",
      "authorship_tag": "ABX9TyPbxHNXci2SyqCSjKA+nY5h",
      "include_colab_link": true
    },
    "kernelspec": {
      "name": "python3",
      "display_name": "Python 3"
    },
    "language_info": {
      "name": "python"
    }
  },
  "cells": [
    {
      "cell_type": "markdown",
      "metadata": {
        "id": "view-in-github",
        "colab_type": "text"
      },
      "source": [
        "<a href=\"https://colab.research.google.com/github/mabataki2/AI-Class/blob/main/Week2/car_evaluation.ipynb\" target=\"_parent\"><img src=\"https://colab.research.google.com/assets/colab-badge.svg\" alt=\"Open In Colab\"/></a>"
      ]
    },
    {
      "cell_type": "code",
      "source": [
        "# car_evaluation\n",
        "import pandas as pd\n",
        "from sklearn.model_selection import train_test_split\n",
        "from sklearn.tree import DecisionTreeClassifier\n",
        "from sklearn.ensemble import RandomForestClassifier\n",
        "from sklearn.linear_model import LogisticRegression\n",
        "from sklearn.metrics import accuracy_score\n",
        "from sklearn.preprocessing import LabelEncoder\n",
        "\n",
        "\n",
        "# -----------------------------\n",
        "# 1) 데이터 준비\n",
        "# -----------------------------\n",
        "df_car = pd.read_csv(\"/content/drive/MyDrive/car_evaluation.csv\")\n",
        "\n",
        "label_encoders = {}\n",
        "for col in df_car.columns:\n",
        "    le = LabelEncoder()\n",
        "    df_car[col] = le.fit_transform(df_car[col])\n",
        "    label_encoders[col] = le\n",
        "\n",
        "\n",
        "X_car = df_car.drop(columns=[\"unacc\"])\n",
        "y_car = df_car[\"unacc\"]\n",
        "\n",
        "\n",
        "X_train_car, X_test_car, y_train_car, y_test_car = train_test_split(\n",
        "    X_car, y_car, test_size=0.2, stratify=y_car, random_state=42\n",
        ")\n",
        "\n",
        "\n",
        "# -----------------------------\n",
        "# 2) 모델 구성\n",
        "# -----------------------------\n",
        "dt_car = DecisionTreeClassifier(random_state=42)\n",
        "rf_car = RandomForestClassifier(n_estimators=200, random_state=42)\n",
        "lr_car = LogisticRegression(max_iter=500)\n",
        "\n",
        "\n",
        "# -----------------------------\n",
        "# 3) 모델 학습\n",
        "# -----------------------------\n",
        "dt_car.fit(X_train_car, y_train_car)\n",
        "rf_car.fit(X_train_car, y_train_car)\n",
        "lr_car.fit(X_train_car, y_train_car)\n",
        "\n",
        "\n",
        "# -----------------------------\n",
        "# 4) 모델 평가\n",
        "# -----------------------------\n",
        "dt_acc_car = accuracy_score(y_test_car, dt_car.predict(X_test_car))\n",
        "rf_acc_car = accuracy_score(y_test_car, rf_car.predict(X_test_car))\n",
        "lr_acc_car = accuracy_score(y_test_car, lr_car.predict(X_test_car))\n",
        "\n",
        "\n",
        "print(\"\\n=== Test Accuracy (Car Evaluation) ===\")\n",
        "print(f\"Decision Tree : {dt_acc_car:.4f}\")\n",
        "print(f\"Random Forest : {rf_acc_car:.4f}\")\n",
        "print(f\"Logistic Reg. : {lr_acc_car:.4f}\")\n"
      ],
      "metadata": {
        "id": "9kHqDD9uC_9F",
        "outputId": "f392d017-7602-4399-fc46-a02f88519d81",
        "colab": {
          "base_uri": "https://localhost:8080/"
        }
      },
      "execution_count": 8,
      "outputs": [
        {
          "output_type": "stream",
          "name": "stdout",
          "text": [
            "\n",
            "=== Test Accuracy (Car Evaluation) ===\n",
            "Decision Tree : 0.9884\n",
            "Random Forest : 0.9827\n",
            "Logistic Reg. : 0.6821\n"
          ]
        }
      ]
    },
    {
      "cell_type": "code",
      "source": [],
      "metadata": {
        "id": "uYILIE4rNvlG"
      },
      "execution_count": null,
      "outputs": []
    }
  ]
}