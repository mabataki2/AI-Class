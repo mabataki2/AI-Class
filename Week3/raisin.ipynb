{
  "nbformat": 4,
  "nbformat_minor": 0,
  "metadata": {
    "colab": {
      "provenance": [],
      "mount_file_id": "1sFy1OCdFJ1ebECKo08veursyLGGFRRO1",
      "authorship_tag": "ABX9TyOBW42XBtxH0DiMBbIzCnUJ",
      "include_colab_link": true
    },
    "kernelspec": {
      "name": "python3",
      "display_name": "Python 3"
    },
    "language_info": {
      "name": "python"
    }
  },
  "cells": [
    {
      "cell_type": "markdown",
      "metadata": {
        "id": "view-in-github",
        "colab_type": "text"
      },
      "source": [
        "<a href=\"https://colab.research.google.com/github/mabataki2/AI-Class/blob/main/Week3/raisin.ipynb\" target=\"_parent\"><img src=\"https://colab.research.google.com/assets/colab-badge.svg\" alt=\"Open In Colab\"/></a>"
      ]
    },
    {
      "cell_type": "code",
      "execution_count": 12,
      "metadata": {
        "id": "Owade2yxOfG5",
        "colab": {
          "base_uri": "https://localhost:8080/"
        },
        "outputId": "34e9218a-4de5-4dce-fe9a-17dec4dbafbb"
      },
      "outputs": [
        {
          "output_type": "stream",
          "name": "stdout",
          "text": [
            "=== DT Test Accuracy ===\n",
            "Decision Tree : 0.8444\n",
            "[[70 20]\n",
            " [ 8 82]]\n",
            "=== RF Test Accuracy ===\n",
            "Random Forest : 0.8667\n",
            "[[71 19]\n",
            " [ 5 85]]\n",
            "=== LR Test Accuracy ===\n",
            "Logistic Reg. : 0.8889\n",
            "[[74 16]\n",
            " [ 4 86]]\n"
          ]
        }
      ],
      "source": [
        "import pandas as pd\n",
        "from sklearn.model_selection import train_test_split\n",
        "from sklearn.tree import DecisionTreeClassifier\n",
        "from sklearn.ensemble import RandomForestClassifier\n",
        "from sklearn.linear_model import LogisticRegression\n",
        "from sklearn.metrics import accuracy_score\n",
        "\n",
        "\n",
        "# -----------------------------\n",
        "# 1) 데이터 준비\n",
        "# -----------------------------\n",
        "\n",
        "\n",
        "df = pd.read_excel(\"/content/drive/MyDrive/Raisin_Dataset.xlsx\").dropna()\n",
        "df  # print(df) 와 동일\n",
        "\n",
        "\n",
        "# 입력과 출력 분리\n",
        "X = df.drop(columns=[\"Class\"])\n",
        "y = df[\"Class\"]\n",
        "\n",
        "\n",
        "# 훈련과 테스트 데이터 분리\n",
        "\n",
        "\n",
        "X_train, X_test, y_train, y_test = train_test_split(\n",
        "    X, y, test_size=0.2, stratify=y, random_state=42\n",
        "\n",
        ")\n",
        "\n",
        "\n",
        "# -----------------------------\n",
        "# 2) 모델 구성\n",
        "# -----------------------------\n",
        "dt = DecisionTreeClassifier(random_state=42)\n",
        "rf = RandomForestClassifier(n_estimators=200, random_state=42)\n",
        "lr = LogisticRegression(max_iter=500)\n",
        "\n",
        "\n",
        "# -----------------------------\n",
        "# 3) 모델 학습\n",
        "# -----------------------------\n",
        "\n",
        "dt.fit(X_train, y_train)\n",
        "rf.fit(X_train, y_train)\n",
        "lr.fit(X_train, y_train)\n",
        "\n",
        "# -----------------------------\n",
        "# 4) 예측결과 생성\n",
        "# -----------------------------\n",
        "\n",
        "\n",
        "dt_y_pred = dt.predict(X_test)\n",
        "rf_y_pred = rf.predict(X_test)\n",
        "lr_y_pred = lr.predict(X_test)\n",
        "\n",
        "\n",
        "# -----------------------------\n",
        "# 5) 예측결과와 정답을 비교한 정확도 평가\n",
        "# -----------------------------\n",
        "\n",
        "from sklearn.metrics import accuracy_score\n",
        "from sklearn.metrics import confusion_matrix\n",
        "\n",
        "dt_acc = accuracy_score(y_test, dt_y_pred)\n",
        "rf_acc = accuracy_score(y_test, rf_y_pred )\n",
        "lr_acc = accuracy_score(y_test, lr_y_pred)\n",
        "\n",
        "\n",
        "print(\"=== DT Test Accuracy ===\")\n",
        "print(f\"Decision Tree : {dt_acc:.4f}\")\n",
        "print (confusion_matrix(y_test,dt_y_pred))\n",
        "\n",
        "print(\"=== RF Test Accuracy ===\")\n",
        "print(f\"Random Forest : {rf_acc:.4f}\")\n",
        "print (confusion_matrix(y_test,rf_y_pred))\n",
        "\n",
        "print(\"=== LR Test Accuracy ===\")\n",
        "print(f\"Logistic Reg. : {lr_acc:.4f}\")\n",
        "print (confusion_matrix(y_test,lr_y_pred))"
      ]
    },
    {
      "cell_type": "code",
      "source": [],
      "metadata": {
        "id": "7AFBsNE8VE4E"
      },
      "execution_count": null,
      "outputs": []
    }
  ]
}